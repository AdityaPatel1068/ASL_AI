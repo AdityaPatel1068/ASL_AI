{
 "cells": [
  {
   "cell_type": "code",
   "execution_count": null,
   "metadata": {},
   "outputs": [],
   "source": [
    "import os\n",
    "import shutil\n",
    "from sklearn.model_selection import train_test_split\n",
    "\n",
    "# Function to organize data into train and test folders\n",
    "def organize_data(src_folder, dest_folder, test_size=0.2, random_state=42):\n",
    "    classes = os.listdir(src_folder)\n",
    "\n",
    "    for class_name in classes:\n",
    "        class_folder = os.path.join(src_folder, class_name)\n",
    "\n",
    "        if not os.path.isdir(class_folder):\n",
    "            continue\n",
    "\n",
    "        train_folder = os.path.join(dest_folder, 'train', class_name)\n",
    "        test_folder = os.path.join(dest_folder, 'test', class_name)\n",
    "\n",
    "        os.makedirs(train_folder, exist_ok=True)\n",
    "        os.makedirs(test_folder, exist_ok=True)\n",
    "\n",
    "        # Filter out non-image files\n",
    "        images = [image for image in os.listdir(class_folder) if image.lower().endswith(('.png', '.jpg', '.jpeg'))]\n",
    "\n",
    "        # Split the data into train and test sets\n",
    "        train_images, test_images = train_test_split(images, test_size=test_size, random_state=random_state)\n",
    "\n",
    "        # Copy images to train and test folders\n",
    "        for image in train_images:\n",
    "            shutil.copy(os.path.join(class_folder, image), os.path.join(train_folder, image))\n",
    "\n",
    "        for image in test_images:\n",
    "            shutil.copy(os.path.join(class_folder, image), os.path.join(test_folder, image))\n",
    "\n",
    "preprocessed_images_folder_path = '/Users/aditya/Desktop/Class/DS675Machine Learning/Project/DATASET/PRO'\n",
    "\n",
    "# Organized data into train and test folders\n",
    "organize_data(preprocessed_images_folder_path, '/Users/aditya/Desktop/Class/DS675Machine Learning/Project/DATASET/SPLIT')\n"
   ]
  }
 ],
 "metadata": {
  "kernelspec": {
   "display_name": "Python 3",
   "language": "python",
   "name": "python3"
  },
  "language_info": {
   "codemirror_mode": {
    "name": "ipython",
    "version": 3
   },
   "file_extension": ".py",
   "mimetype": "text/x-python",
   "name": "python",
   "nbconvert_exporter": "python",
   "pygments_lexer": "ipython3",
   "version": "3.10.4"
  }
 },
 "nbformat": 4,
 "nbformat_minor": 2
}
